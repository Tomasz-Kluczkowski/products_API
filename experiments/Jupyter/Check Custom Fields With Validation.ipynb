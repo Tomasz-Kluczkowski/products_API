{
 "cells": [
  {
   "cell_type": "code",
   "execution_count": 1,
   "metadata": {},
   "outputs": [],
   "source": [
    "from marshmallow_jsonapi import fields\n",
    "from marshmallow.validate import OneOf\n",
    "from marshmallow_jsonapi.flask import Schema\n",
    "from devtools import debug\n",
    "from typing import Iterable"
   ]
  },
  {
   "cell_type": "code",
   "execution_count": 2,
   "metadata": {},
   "outputs": [],
   "source": [
    "NOT_POSITIVE_NUMBER = 'not_positive_number'\n",
    "INVALID_TEXT_FIELD = 'invalid_text_field'\n",
    "\n",
    "FIELD_VALUE_PLACEHOLDER = 'field_value_placeholder'\n",
    "\n",
    "validation_messages = {\n",
    "    NOT_POSITIVE_NUMBER: f\"'{FIELD_VALUE_PLACEHOLDER}' is not a positive number.\",\n",
    "    INVALID_TEXT_FIELD: f\"'{FIELD_VALUE_PLACEHOLDER}' is not a valid %s.\"\n",
    "}\n",
    "\n",
    "\n",
    "class TextField(fields.Str):\n",
    "    \"\"\"\n",
    "    String based field to be used in CSV schemas for data files validation. Uses OneOf validator against the input\n",
    "    value. Sets default values for most used attributes.\n",
    "    \"\"\"\n",
    "    def __init__(self, choices: Iterable, column_name: str, error_msg=None, *args, **kwargs, ):\n",
    "        \"\"\"\n",
    "        Parameters\n",
    "        ----------\n",
    "        choices\n",
    "            a sequence of strings which are valid values for this field.\n",
    "        \"\"\"\n",
    "        error_msg = error_msg if error_msg else validation_messages[INVALID_TEXT_FIELD] % column_name\n",
    "        super().__init__(\n",
    "            validate=OneOf(choices=choices, error=error_msg),\n",
    "            required = kwargs.get('required', True),\n",
    "            allow_none = kwargs.get('allow_none', True),\n",
    "            default = kwargs.get('default', ''),\n",
    "            error_messages = {\n",
    "                'invalid': error_msg,\n",
    "                'validator_failed': error_msg\n",
    "            },\n",
    "            *args, \n",
    "            **kwargs\n",
    "        )\n",
    "\n",
    "\n",
    "class DurationField(fields.Float):\n",
    "    \"\"\"\n",
    "    A positive floating point field with an appropriate validation error messages.\n",
    "    \"\"\"\n",
    "    def __init__(self, *args, **kwargs):\n",
    "        super().__init__(*args, **kwargs)\n",
    "        self.validate = lambda x: x >= 0\n",
    "        self.error_messages = {\n",
    "            'invalid': validation_messages[NOT_POSITIVE_NUMBER],\n",
    "            'validator_failed': validation_messages[NOT_POSITIVE_NUMBER]\n",
    "        }\n"
   ]
  },
  {
   "cell_type": "code",
   "execution_count": 3,
   "metadata": {},
   "outputs": [],
   "source": [
    "choices = ['Adrian', 'Balboa']"
   ]
  },
  {
   "cell_type": "code",
   "execution_count": 5,
   "metadata": {},
   "outputs": [],
   "source": [
    "class MySchema(Schema):\n",
    "    class Meta:\n",
    "        type_ = 'users'\n",
    "    id = fields.Str(missing=1)\n",
    "    name = TextField(choices=choices, column_name='Name')\n",
    "    "
   ]
  },
  {
   "cell_type": "code",
   "execution_count": 6,
   "metadata": {},
   "outputs": [],
   "source": [
    "schema = MySchema()"
   ]
  },
  {
   "cell_type": "code",
   "execution_count": 7,
   "metadata": {},
   "outputs": [
    {
     "name": "stdout",
     "output_type": "stream",
     "text": [
      "<ipython-input-7-b37c8a997d94>:1 <module>\n",
      "    schema.fields: {\n",
      "        'id': (\n",
      "            <fields.String(default=<marshmallow.missing>, attribute=None, validate=None, required=False,\n",
      "            load_only=False, dump_only=False, missing=1, allow_none=False, error_messages={'required': 'Missing data for\n",
      "            required field.', 'null': 'Field may not be null.', 'validator_failed': 'Invalid value.', 'invalid': 'Not a\n",
      "            valid string.', 'invalid_utf8': 'Not a valid utf-8 string.'})>\n",
      "        ),\n",
      "        'name': (\n",
      "            <fields.TextField(default='', attribute=None, validate=<OneOf(choices=['Adrian', 'Balboa'], labels=[],\n",
      "            error=\"'field_value_placeholder' is not a valid Name.\")>, required=True, load_only=False, dump_only=False,\n",
      "            missing=<marshmallow.missing>, allow_none=True, error_messages={'required': 'Missing data for required\n",
      "            field.', 'null': 'Field may not be null.', 'validator_failed': \"'field_value_placeholder' is not a valid\n",
      "            Name.\", 'invalid': \"'field_value_placeholder' is not a valid Name.\", 'invalid_utf8': 'Not a valid utf-8\n",
      "            string.'})>\n",
      "        ),\n",
      "    } (dict) len=2\n"
     ]
    }
   ],
   "source": [
    "debug(schema.fields)"
   ]
  },
  {
   "cell_type": "code",
   "execution_count": 10,
   "metadata": {},
   "outputs": [],
   "source": [
    "good_data = {\n",
    "    'data': {\n",
    "        'type': 'users',\n",
    "         'id': '12', \n",
    "         'attributes': {'name': 'Balboa'}\n",
    "        }\n",
    "}"
   ]
  },
  {
   "cell_type": "code",
   "execution_count": 11,
   "metadata": {
    "scrolled": true
   },
   "outputs": [
    {
     "name": "stdout",
     "output_type": "stream",
     "text": [
      "/home/tomasz_kluczkowski/Dev/products_API/venv/lib/python3.6/site-packages/marshmallow_jsonapi/schema.py:239 _do_load\n",
      "    data: {\n",
      "        'data': {\n",
      "            'type': 'users',\n",
      "            'id': '12',\n",
      "            'attributes': {\n",
      "                'name': 'Balboa',\n",
      "            },\n",
      "        },\n",
      "    } (dict) len=1\n",
      "/home/tomasz_kluczkowski/Dev/products_API/venv/lib/python3.6/site-packages/marshmallow_jsonapi/schema.py:194 unwrap_item\n",
      "    payload: {\n",
      "        'id': '12',\n",
      "        'name': 'Balboa',\n",
      "    } (dict) len=2\n",
      "/home/tomasz_kluczkowski/Dev/products_API/venv/lib/python3.6/site-packages/marshmallow_jsonapi/schema.py:264 _do_load\n",
      "    result: {\n",
      "        'id': '12',\n",
      "        'name': 'Balboa',\n",
      "    } (dict) len=2\n"
     ]
    },
    {
     "data": {
      "text/plain": [
       "{'id': '12', 'name': 'Balboa'}"
      ]
     },
     "execution_count": 11,
     "metadata": {},
     "output_type": "execute_result"
    }
   ],
   "source": [
    "schema.load(good_data)"
   ]
  },
  {
   "cell_type": "code",
   "execution_count": null,
   "metadata": {},
   "outputs": [],
   "source": []
  }
 ],
 "metadata": {
  "kernelspec": {
   "display_name": "products_api",
   "language": "python",
   "name": "products_api"
  },
  "language_info": {
   "codemirror_mode": {
    "name": "ipython",
    "version": 3
   },
   "file_extension": ".py",
   "mimetype": "text/x-python",
   "name": "python",
   "nbconvert_exporter": "python",
   "pygments_lexer": "ipython3",
   "version": "3.6.7"
  }
 },
 "nbformat": 4,
 "nbformat_minor": 2
}
